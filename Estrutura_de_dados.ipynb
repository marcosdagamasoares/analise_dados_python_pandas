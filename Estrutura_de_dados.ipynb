{
 "cells": [
  {
   "cell_type": "code",
   "execution_count": 1,
   "metadata": {
    "colab": {
     "base_uri": "https://localhost:8080/"
    },
    "id": "--55YYVCW7jo",
    "outputId": "38dc9d03-304a-452d-840b-a19daf61686c"
   },
   "outputs": [
    {
     "data": {
      "text/plain": [
       "4"
      ]
     },
     "execution_count": 1,
     "metadata": {},
     "output_type": "execute_result"
    }
   ],
   "source": [
    "var_nome = \"Marcos da gama\"\n",
    "var_nome.count(\"a\")"
   ]
  },
  {
   "cell_type": "code",
   "execution_count": 2,
   "metadata": {
    "colab": {
     "base_uri": "https://localhost:8080/",
     "height": 35
    },
    "id": "1UOYiPuuYyfn",
    "outputId": "7fc38991-c610-43d2-ce27-57c0edf536bf"
   },
   "outputs": [
    {
     "data": {
      "text/plain": [
       "'MARCOS DA GAMA'"
      ]
     },
     "execution_count": 2,
     "metadata": {},
     "output_type": "execute_result"
    }
   ],
   "source": [
    "var_nome.upper()"
   ]
  },
  {
   "cell_type": "code",
   "execution_count": 3,
   "metadata": {
    "colab": {
     "base_uri": "https://localhost:8080/",
     "height": 35
    },
    "id": "9Tnnu7WUZXoH",
    "outputId": "f7412fb9-1a46-4a76-b663-a3afad49df35"
   },
   "outputs": [
    {
     "data": {
      "text/plain": [
       "'Edu da gama'"
      ]
     },
     "execution_count": 3,
     "metadata": {},
     "output_type": "execute_result"
    }
   ],
   "source": [
    "var_nome.replace('Marcos','Edu')"
   ]
  },
  {
   "cell_type": "code",
   "execution_count": 4,
   "metadata": {
    "colab": {
     "base_uri": "https://localhost:8080/"
    },
    "id": "mXm94AZzdMfg",
    "outputId": "78baa55d-6c1c-4c59-8ae4-6cc8562584a9"
   },
   "outputs": [
    {
     "data": {
      "text/plain": [
       "[1, 2, 3]"
      ]
     },
     "execution_count": 4,
     "metadata": {},
     "output_type": "execute_result"
    }
   ],
   "source": [
    "animais = [1, 2, 3]\n",
    "animais\n"
   ]
  },
  {
   "cell_type": "code",
   "execution_count": 5,
   "metadata": {
    "colab": {
     "base_uri": "https://localhost:8080/"
    },
    "id": "q9KR9Keodo3w",
    "outputId": "b6facf92-e8b5-40e2-c0c3-1df8a55b9186"
   },
   "outputs": [
    {
     "data": {
      "text/plain": [
       "['cachorro', 'gato', 1234, 1.12]"
      ]
     },
     "execution_count": 5,
     "metadata": {},
     "output_type": "execute_result"
    }
   ],
   "source": [
    "animais = ['cachorro', 'gato', 1234, 1.12]\n",
    "animais"
   ]
  },
  {
   "cell_type": "code",
   "execution_count": 6,
   "metadata": {
    "colab": {
     "base_uri": "https://localhost:8080/"
    },
    "id": "fjkDzSgQeEi3",
    "outputId": "e6200ed6-05bd-40fc-90d9-128ae0249415"
   },
   "outputs": [
    {
     "data": {
      "text/plain": [
       "['maritaca', 'gato', 1234, 1.12]"
      ]
     },
     "execution_count": 6,
     "metadata": {},
     "output_type": "execute_result"
    }
   ],
   "source": [
    "animais[0:2]\n",
    "animais[0]='maritaca'\n",
    "animais"
   ]
  },
  {
   "cell_type": "code",
   "execution_count": 7,
   "metadata": {
    "colab": {
     "base_uri": "https://localhost:8080/"
    },
    "id": "4-5EiMTbeJYh",
    "outputId": "46f7fa33-36d6-466b-bc5e-8dbad96f7c5e"
   },
   "outputs": [
    {
     "data": {
      "text/plain": [
       "['maritaca', 1234, 1.12]"
      ]
     },
     "execution_count": 7,
     "metadata": {},
     "output_type": "execute_result"
    }
   ],
   "source": [
    "animais.remove('gato')\n",
    "animais"
   ]
  },
  {
   "cell_type": "code",
   "execution_count": 8,
   "metadata": {
    "colab": {
     "base_uri": "https://localhost:8080/"
    },
    "id": "bMqQ88_gewp3",
    "outputId": "93fc7096-bd52-451a-b1c1-06f1c9aa3d4e"
   },
   "outputs": [
    {
     "data": {
      "text/plain": [
       "3"
      ]
     },
     "execution_count": 8,
     "metadata": {},
     "output_type": "execute_result"
    }
   ],
   "source": [
    "total =len(animais)\n",
    "total"
   ]
  },
  {
   "cell_type": "code",
   "execution_count": 9,
   "metadata": {
    "colab": {
     "base_uri": "https://localhost:8080/"
    },
    "id": "sQEr8YxKfBpH",
    "outputId": "7d298344-32e7-4369-b138-a82d62c88028"
   },
   "outputs": [
    {
     "name": "stdout",
     "output_type": "stream",
     "text": [
      "tem\n"
     ]
    }
   ],
   "source": [
    "lista = [10, 300, 20, 70]\n",
    "if 10 in lista:\n",
    "  print('tem')\n",
    "else:\n",
    "  print('não tem')"
   ]
  },
  {
   "cell_type": "code",
   "execution_count": 10,
   "metadata": {
    "colab": {
     "base_uri": "https://localhost:8080/"
    },
    "id": "VEC9aC4eff-B",
    "outputId": "3fab1c86-0818-4fc4-a4c2-38743c18ad09"
   },
   "outputs": [
    {
     "data": {
      "text/plain": [
       "300"
      ]
     },
     "execution_count": 10,
     "metadata": {},
     "output_type": "execute_result"
    }
   ],
   "source": [
    "#max(lista)\n",
    "maior = max(lista)\n",
    "maior"
   ]
  },
  {
   "cell_type": "code",
   "execution_count": 11,
   "metadata": {
    "colab": {
     "base_uri": "https://localhost:8080/"
    },
    "id": "GgiZmTx1gG-1",
    "outputId": "bec985fb-1143-4e6d-ebbf-40e9ca1c0232"
   },
   "outputs": [
    {
     "data": {
      "text/plain": [
       "10"
      ]
     },
     "execution_count": 11,
     "metadata": {},
     "output_type": "execute_result"
    }
   ],
   "source": [
    "min(lista)"
   ]
  },
  {
   "cell_type": "code",
   "execution_count": 12,
   "metadata": {
    "colab": {
     "base_uri": "https://localhost:8080/"
    },
    "id": "17UB2cSrgHE6",
    "outputId": "ba5566f5-140e-4c9c-dde4-f09775222339"
   },
   "outputs": [
    {
     "data": {
      "text/plain": [
       "[10, 300, 20, 70, 'Leão']"
      ]
     },
     "execution_count": 12,
     "metadata": {},
     "output_type": "execute_result"
    }
   ],
   "source": [
    "lista.append('Leão')\n",
    "lista"
   ]
  },
  {
   "cell_type": "code",
   "execution_count": 13,
   "metadata": {
    "id": "Dc-vmccPgmCT"
   },
   "outputs": [],
   "source": [
    "lista.extend('cobra')\n"
   ]
  },
  {
   "cell_type": "code",
   "execution_count": 14,
   "metadata": {
    "colab": {
     "base_uri": "https://localhost:8080/"
    },
    "id": "7GbKOQ57hTJe",
    "outputId": "f6d25ed7-1517-45c2-e9a5-2e412e2a0dda"
   },
   "outputs": [
    {
     "data": {
      "text/plain": [
       "[10, 300, 20, 70, 'Leão', 'c', 'o', 'b', 'r', 'a']"
      ]
     },
     "execution_count": 14,
     "metadata": {},
     "output_type": "execute_result"
    }
   ],
   "source": [
    "lista"
   ]
  },
  {
   "cell_type": "code",
   "execution_count": 15,
   "metadata": {
    "id": "isVA2h-XhrJ-"
   },
   "outputs": [],
   "source": [
    "lista.extend(['jabuti'])"
   ]
  },
  {
   "cell_type": "code",
   "execution_count": 16,
   "metadata": {
    "colab": {
     "base_uri": "https://localhost:8080/"
    },
    "id": "XsheK_7Bh06v",
    "outputId": "9374ed85-ced8-4e17-f657-64f54accbcef"
   },
   "outputs": [
    {
     "data": {
      "text/plain": [
       "[10, 300, 20, 70, 'Leão', 'c', 'o', 'b', 'r', 'a', 'jabuti']"
      ]
     },
     "execution_count": 16,
     "metadata": {},
     "output_type": "execute_result"
    }
   ],
   "source": [
    "lista"
   ]
  },
  {
   "cell_type": "code",
   "execution_count": 17,
   "metadata": {
    "colab": {
     "base_uri": "https://localhost:8080/"
    },
    "id": "9HVCK8MFh75c",
    "outputId": "1310be36-b1d7-40f2-c2e8-d2faaa3f7a45"
   },
   "outputs": [
    {
     "data": {
      "text/plain": [
       "1"
      ]
     },
     "execution_count": 17,
     "metadata": {},
     "output_type": "execute_result"
    }
   ],
   "source": [
    "lista.count('a')"
   ]
  },
  {
   "cell_type": "code",
   "execution_count": 18,
   "metadata": {
    "colab": {
     "base_uri": "https://localhost:8080/"
    },
    "id": "_t0n4-w7ijrV",
    "outputId": "e9af03be-4d51-4164-9855-581df59c7996"
   },
   "outputs": [
    {
     "data": {
      "text/plain": [
       "[10, 300, 20, 70, 'Leão', 'c', 'o', 'b', 'r', 'a', 'jabuti']"
      ]
     },
     "execution_count": 18,
     "metadata": {},
     "output_type": "execute_result"
    }
   ],
   "source": [
    "lista"
   ]
  },
  {
   "cell_type": "code",
   "execution_count": 19,
   "metadata": {
    "colab": {
     "base_uri": "https://localhost:8080/"
    },
    "id": "80FHNnZ8ivEd",
    "outputId": "80d4ad7a-b071-491b-c1a4-c19c1b8f4fe9"
   },
   "outputs": [
    {
     "data": {
      "text/plain": [
       "[1, 1, 2, 8, 20]"
      ]
     },
     "execution_count": 19,
     "metadata": {},
     "output_type": "execute_result"
    }
   ],
   "source": [
    "num = [2, 1, 20, 8, 1]\n",
    "num.sort()\n",
    "num"
   ]
  },
  {
   "cell_type": "markdown",
   "metadata": {
    "id": "FNK04AvojTts"
   },
   "source": [
    "**TUPLAS**"
   ]
  },
  {
   "cell_type": "code",
   "execution_count": 20,
   "metadata": {
    "id": "gkBn7LzPjWLX"
   },
   "outputs": [],
   "source": [
    "tp = ('Banana', 'Uva', 10, 20)\n"
   ]
  },
  {
   "cell_type": "code",
   "execution_count": 21,
   "metadata": {
    "colab": {
     "base_uri": "https://localhost:8080/"
    },
    "id": "w250B-tljovd",
    "outputId": "028aaea0-d184-443a-b4cb-39058ea48854"
   },
   "outputs": [
    {
     "data": {
      "text/plain": [
       "('Banana', 'Uva', 10)"
      ]
     },
     "execution_count": 21,
     "metadata": {},
     "output_type": "execute_result"
    }
   ],
   "source": [
    "tp[0:3]"
   ]
  },
  {
   "cell_type": "markdown",
   "metadata": {
    "id": "7MsQxvyFkDke"
   },
   "source": [
    "**DICIONÁRIOS**"
   ]
  },
  {
   "cell_type": "code",
   "execution_count": 22,
   "metadata": {
    "id": "nuTcMY3kkGXn"
   },
   "outputs": [],
   "source": [
    "dc = {\"Maça\": 10, \"Banana\": 20, \"Uva\": 2}"
   ]
  },
  {
   "cell_type": "code",
   "execution_count": 23,
   "metadata": {
    "colab": {
     "base_uri": "https://localhost:8080/"
    },
    "id": "jgQ3DDDGkg31",
    "outputId": "1da1739e-52c0-41c4-f78a-55af7437739b"
   },
   "outputs": [
    {
     "data": {
      "text/plain": [
       "10"
      ]
     },
     "execution_count": 23,
     "metadata": {},
     "output_type": "execute_result"
    }
   ],
   "source": [
    "dc[\"Maça\"]"
   ]
  },
  {
   "cell_type": "code",
   "execution_count": 24,
   "metadata": {
    "id": "XXqJPZYCku-8"
   },
   "outputs": [],
   "source": [
    "dc['Maça'] = 50"
   ]
  },
  {
   "cell_type": "code",
   "execution_count": 25,
   "metadata": {
    "colab": {
     "base_uri": "https://localhost:8080/"
    },
    "id": "x6eAZiyak3Dd",
    "outputId": "9d90237e-de55-4929-ea8b-84474bb12d4e"
   },
   "outputs": [
    {
     "data": {
      "text/plain": [
       "{'Maça': 50, 'Banana': 20, 'Uva': 2}"
      ]
     },
     "execution_count": 25,
     "metadata": {},
     "output_type": "execute_result"
    }
   ],
   "source": [
    "dc"
   ]
  },
  {
   "cell_type": "markdown",
   "metadata": {
    "id": "dlE3lu8wlUWz"
   },
   "source": [
    "**RETORNA TODAS AS CHAVES DO DICIONÁRIO**"
   ]
  },
  {
   "cell_type": "code",
   "execution_count": 26,
   "metadata": {
    "colab": {
     "base_uri": "https://localhost:8080/"
    },
    "id": "ZE-tMGsclpbP",
    "outputId": "86d92e7c-4054-472a-bb9b-c4a2ce4a643f"
   },
   "outputs": [
    {
     "data": {
      "text/plain": [
       "dict_keys(['Maça', 'Banana', 'Uva'])"
      ]
     },
     "execution_count": 26,
     "metadata": {},
     "output_type": "execute_result"
    }
   ],
   "source": [
    "dc.keys()"
   ]
  },
  {
   "cell_type": "markdown",
   "metadata": {
    "id": "n9Tnr6sDl4FV"
   },
   "source": [
    "**RETORNA TODOS OS VALORES**"
   ]
  },
  {
   "cell_type": "code",
   "execution_count": 27,
   "metadata": {
    "colab": {
     "base_uri": "https://localhost:8080/"
    },
    "id": "kbngY5CRl-Bt",
    "outputId": "b3880751-24f0-4f89-85c3-75bb58fdd984"
   },
   "outputs": [
    {
     "data": {
      "text/plain": [
       "dict_values([50, 20, 2])"
      ]
     },
     "execution_count": 27,
     "metadata": {},
     "output_type": "execute_result"
    }
   ],
   "source": [
    "dc.values()"
   ]
  },
  {
   "cell_type": "markdown",
   "metadata": {
    "id": "L9BDxmXrmOUM"
   },
   "source": [
    "Verifica se existe uma chave no dicionário e caso não exista, insere\n",
    "Se existir retorna o valor"
   ]
  },
  {
   "cell_type": "code",
   "execution_count": 28,
   "metadata": {
    "colab": {
     "base_uri": "https://localhost:8080/"
    },
    "id": "c3P_RhhtmbSk",
    "outputId": "13ee39e2-4cca-4e9d-82b2-32eb3deeb2f3"
   },
   "outputs": [
    {
     "data": {
      "text/plain": [
       "30"
      ]
     },
     "execution_count": 28,
     "metadata": {},
     "output_type": "execute_result"
    }
   ],
   "source": [
    "dc.setdefault('Limão', 30)"
   ]
  },
  {
   "cell_type": "code",
   "execution_count": 29,
   "metadata": {
    "colab": {
     "base_uri": "https://localhost:8080/"
    },
    "id": "pmcgtC1vmuzE",
    "outputId": "7b8571f9-e4cc-407c-d77f-313619d13f54"
   },
   "outputs": [
    {
     "data": {
      "text/plain": [
       "{'Maça': 50, 'Banana': 20, 'Uva': 2, 'Limão': 30}"
      ]
     },
     "execution_count": 29,
     "metadata": {},
     "output_type": "execute_result"
    }
   ],
   "source": [
    "dc"
   ]
  }
 ],
 "metadata": {
  "colab": {
   "collapsed_sections": [],
   "name": "Estrutura_de_dados.ipynb",
   "provenance": []
  },
  "kernelspec": {
   "display_name": "Python 3",
   "language": "python",
   "name": "python3"
  },
  "language_info": {
   "codemirror_mode": {
    "name": "ipython",
    "version": 3
   },
   "file_extension": ".py",
   "mimetype": "text/x-python",
   "name": "python",
   "nbconvert_exporter": "python",
   "pygments_lexer": "ipython3",
   "version": "3.8.10"
  }
 },
 "nbformat": 4,
 "nbformat_minor": 4
}
